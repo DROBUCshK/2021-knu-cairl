{
  "nbformat": 4,
  "nbformat_minor": 0,
  "metadata": {
    "colab": {
      "name": "test.ipynb",
      "provenance": []
    },
    "kernelspec": {
      "name": "python3",
      "display_name": "Python 3"
    }
  },
  "cells": [
    {
      "cell_type": "code",
      "metadata": {
        "id": "8d1QFC0mugk9"
      },
      "source": [
        "print(\"Hello world!!!\")"
      ],
      "execution_count": null,
      "outputs": []
    }
  ]
}